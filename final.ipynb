{
 "cells": [
  {
   "cell_type": "code",
   "execution_count": null,
   "metadata": {
    "scrolled": true
   },
   "outputs": [
    {
     "name": "stdout",
     "output_type": "stream",
     "text": [
      "MH1IZDE1433\n",
      "\f",
      "\n"
     ]
    }
   ],
   "source": [
    "import numpy as np\n",
    "import cv2\n",
    "import  imutils\n",
    "import sys\n",
    "import pytesseract\n",
    "import pandas as pd\n",
    "import time\n",
    "\n",
    "pytesseract.pytesseract.tesseract_cmd = r\"C:\\Program Files\\Tesseract-OCR\\tesseract.exe\"\n",
    "\n",
    "image = cv2.imread('car.jpeg')\n",
    "\n",
    "image = imutils.resize(image, width=500)\n",
    "\n",
    "cv2.imshow(\"Original Image\", image)\n",
    "\n",
    "gray = cv2.cvtColor(image, cv2.COLOR_BGR2GRAY)\n",
    "#cv2.imshow(\"1 - Grayscale Conversion\", gray)\n",
    "\n",
    "gray = cv2.bilateralFilter(gray, 11, 17, 17)\n",
    "#cv2.imshow(\"2 - Bilateral Filter\", gray)\n",
    "\n",
    "edged = cv2.Canny(gray, 170, 200)\n",
    "#cv2.imshow(\"4 - Canny Edges\", edged)\n",
    "cnts, hier = cv2.findContours(edged.copy(), cv2.RETR_LIST, cv2.CHAIN_APPROX_SIMPLE)\n",
    "\n",
    "cnts=sorted(cnts, key = cv2.contourArea, reverse = True)[:30] \n",
    "NumberPlateCnt = None \n",
    "\n",
    "count = 0\n",
    "for c in cnts:\n",
    "        peri = cv2.arcLength(c, True)\n",
    "        approx = cv2.approxPolyDP(c, 0.02* peri, True)\n",
    "        if len(approx) == 4:  \n",
    "            NumberPlateCnt = approx \n",
    "            break\n",
    "\n",
    "# Masking the part other than the number plate\n",
    "mask = np.zeros(gray.shape,np.uint8)\n",
    "new_image = cv2.drawContours(mask,[NumberPlateCnt],0,255,-1)\n",
    "new_image = cv2.bitwise_and(image,image,mask=mask)\n",
    "cv2.namedWindow(\"Final_image\",cv2.WINDOW_NORMAL)\n",
    "cv2.imshow(\"Final_image\",new_image)\n",
    "\n",
    "# Configuration for tesseract\n",
    "config = ('-l eng --oem 1 --psm 3')\n",
    "\n",
    "# Run tesseract OCR on image\n",
    "text = pytesseract.image_to_string(new_image, config=config)\n",
    "\n",
    "#Data is stored in CSV file\n",
    "raw_data = {'date': [time.asctime( time.localtime(time.time()) )], \n",
    "        'v_number': [text]}\n",
    "\n",
    "df = pd.DataFrame(raw_data, columns = ['date', 'v_number'])\n",
    "df.to_csv('data.csv')\n",
    "\n",
    "# Print recognized text\n",
    "print(text)\n",
    "\n",
    "cv2.waitKey(0)\n"
   ]
  },
  {
   "cell_type": "code",
   "execution_count": null,
   "metadata": {},
   "outputs": [],
   "source": []
  }
 ],
 "metadata": {
  "kernelspec": {
   "display_name": "Python 3",
   "language": "python",
   "name": "python3"
  },
  "language_info": {
   "codemirror_mode": {
    "name": "ipython",
    "version": 3
   },
   "file_extension": ".py",
   "mimetype": "text/x-python",
   "name": "python",
   "nbconvert_exporter": "python",
   "pygments_lexer": "ipython3",
   "version": "3.7.6"
  }
 },
 "nbformat": 4,
 "nbformat_minor": 4
}
